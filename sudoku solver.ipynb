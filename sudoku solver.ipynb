{
 "cells": [
  {
   "cell_type": "code",
   "execution_count": 4,
   "id": "434387d0",
   "metadata": {},
   "outputs": [],
   "source": [
    "#control the next cell for filling\n",
    "def findNextCellToFill(grid, i, j):\n",
    "    for x in range(i, 9):\n",
    "        for y in range(j, 9):\n",
    "            if grid[x][y] == 0:\n",
    "                return x, y\n",
    "    for x in range(0, 9):\n",
    "        for y in range(0, 9):\n",
    "            if grid[x][y] == 0:\n",
    "                return x, y\n",
    "    return -1, -1\n",
    "\n",
    "def isValid(grid, i, j, e):\n",
    "    rowOk = all([e != grid[i][x] for x in range(9)])\n",
    "    if rowOk:\n",
    "        columnOk = all(e != grid[x][j] for x in range(9))\n",
    "        if columnOk:\n",
    "            # Finding the top left x,y co-ordinates of the section containing the i,j cell\n",
    "            secTopX, secTopY = 3*(i//3), 3*(j//3) # floored quotient should be used here.\n",
    "            for x in range(secTopX,secTopY + 3):\n",
    "                for y in range(secTopY, secTopX + 3):\n",
    "                    if grid[x][y] == e:\n",
    "                        return False\n",
    "            return True\n",
    "        return False\n",
    "    \n",
    "\n",
    "def solveSudoku(grid, i=0, j=0):\n",
    "    i, j = findNextCellToFill(grid, i, j)\n",
    "    if i == -1:\n",
    "        return True\n",
    "    for e in range(1,10):\n",
    "        if isValid(grid, i, j, e):\n",
    "            grid[i][j] = e\n",
    "            if solveSudoku(grid, i, j):\n",
    "                return True\n",
    "            # undo the current cell for backtracing\n",
    "            grid[i][j] = 0\n",
    "    return False\n"
   ]
  },
  {
   "cell_type": "code",
   "execution_count": 7,
   "id": "0c2f1780",
   "metadata": {},
   "outputs": [],
   "source": [
    "# Example\n",
    "\n",
    "sudoku_example = [[2,0,5,3,0,0,0,0,9],\n",
    "                  [0,3,0,4,0,0,8,2,0],\n",
    "                  [0,4,8,0,0,0,0,3,1],\n",
    "                  [0,2,0,0,1,7,0,0,0],\n",
    "                  [0,0,4,0,0,6,2,0,8],\n",
    "                  [1,6,9,0,0,4,7,0,0],\n",
    "                  [0,0,7,1,0,0,9,0,0],\n",
    "                  [0,0,0,0,7,0,1,0,0],\n",
    "                  [0,0,0,2,0,0,0,0,4]]"
   ]
  },
  {
   "cell_type": "code",
   "execution_count": 8,
   "id": "e826030d",
   "metadata": {},
   "outputs": [
    {
     "data": {
      "text/plain": [
       "True"
      ]
     },
     "execution_count": 8,
     "metadata": {},
     "output_type": "execute_result"
    }
   ],
   "source": [
    "solveSudoku(sudoku_example)"
   ]
  },
  {
   "cell_type": "code",
   "execution_count": 9,
   "id": "19ee1b7b",
   "metadata": {},
   "outputs": [
    {
     "data": {
      "text/plain": [
       "[[2, 7, 5, 3, 8, 1, 6, 4, 9],\n",
       " [6, 3, 1, 4, 5, 9, 8, 2, 7],\n",
       " [9, 4, 8, 7, 6, 2, 5, 3, 1],\n",
       " [8, 2, 3, 5, 1, 7, 4, 9, 6],\n",
       " [7, 5, 4, 9, 3, 6, 2, 1, 8],\n",
       " [1, 6, 9, 8, 2, 4, 7, 5, 3],\n",
       " [3, 8, 7, 1, 4, 5, 9, 6, 2],\n",
       " [4, 9, 2, 6, 7, 3, 1, 8, 5],\n",
       " [5, 1, 6, 2, 9, 8, 3, 7, 4]]"
      ]
     },
     "execution_count": 9,
     "metadata": {},
     "output_type": "execute_result"
    }
   ],
   "source": [
    "sudoku_example"
   ]
  },
  {
   "cell_type": "code",
   "execution_count": null,
   "id": "b7c31ed9",
   "metadata": {},
   "outputs": [],
   "source": []
  }
 ],
 "metadata": {
  "kernelspec": {
   "display_name": "Python 3",
   "language": "python",
   "name": "python3"
  },
  "language_info": {
   "codemirror_mode": {
    "name": "ipython",
    "version": 3
   },
   "file_extension": ".py",
   "mimetype": "text/x-python",
   "name": "python",
   "nbconvert_exporter": "python",
   "pygments_lexer": "ipython3",
   "version": "3.8.11"
  }
 },
 "nbformat": 4,
 "nbformat_minor": 5
}
